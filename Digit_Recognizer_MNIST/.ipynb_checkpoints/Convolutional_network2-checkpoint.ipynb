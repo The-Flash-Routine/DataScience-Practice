{
 "cells": [
  {
   "cell_type": "code",
   "execution_count": 2,
   "metadata": {},
   "outputs": [],
   "source": [
    "#for pandas \n",
    "import pandas as pd\n",
    "\n",
    "#for numpy\n",
    "import numpy as np\n",
    "\n",
    "#importing keras\n",
    "\n",
    "from keras.models import Sequential\n",
    "from keras.layers import Dense,Conv2D,MaxPooling2D,Dropout,Flatten"
   ]
  },
  {
   "cell_type": "code",
   "execution_count": 3,
   "metadata": {},
   "outputs": [],
   "source": [
    "def modify(y):\n",
    "    m=y.shape[0]\n",
    "    ynew=np.zeros((m,10))\n",
    "    for i in range(0,m):\n",
    "        ynew[i,y[i]]=1\n",
    "    return ynew"
   ]
  },
  {
   "cell_type": "code",
   "execution_count": 4,
   "metadata": {},
   "outputs": [],
   "source": [
    "def output_submit(y,filename):\n",
    "    filename=filename+\".csv\"\n",
    "    out=[]\n",
    "    ind=[]\n",
    "    for i in range(0,y.shape[0]):\n",
    "        hey=y[i,:].reshape(-1,1)\n",
    "        out.append(np.argmax(hey))\n",
    "        ind.append(i+1)\n",
    "    hey=np.hstack((np.array(ind).reshape(-1,1),np.array(out).reshape(-1,1)))\n",
    "    np.savetxt(filename,hey,header=\"ImageId,Label\",delimiter=',',comments='')"
   ]
  },
  {
   "cell_type": "code",
   "execution_count": 5,
   "metadata": {},
   "outputs": [],
   "source": [
    "dfl=\"C:/Users/Ritik/Desktop/Projects_Flash/Digit Recognizer[MNIST]/train.csv\""
   ]
  },
  {
   "cell_type": "code",
   "execution_count": 6,
   "metadata": {},
   "outputs": [],
   "source": [
    "datatrain=pd.read_csv(dfl,header=0)"
   ]
  },
  {
   "cell_type": "code",
   "execution_count": 7,
   "metadata": {},
   "outputs": [
    {
     "data": {
      "text/plain": [
       "(42000, 785)"
      ]
     },
     "execution_count": 7,
     "metadata": {},
     "output_type": "execute_result"
    }
   ],
   "source": [
    "datatrain.shape"
   ]
  },
  {
   "cell_type": "code",
   "execution_count": 8,
   "metadata": {},
   "outputs": [],
   "source": [
    "dfl=\"C:/Users/Ritik/Desktop/Projects_Flash/Digit Recognizer[MNIST]/test.csv\""
   ]
  },
  {
   "cell_type": "code",
   "execution_count": 9,
   "metadata": {},
   "outputs": [],
   "source": [
    "datatest=pd.read_csv(dfl,header=0)"
   ]
  },
  {
   "cell_type": "code",
   "execution_count": 10,
   "metadata": {},
   "outputs": [
    {
     "data": {
      "text/plain": [
       "(28000, 784)"
      ]
     },
     "execution_count": 10,
     "metadata": {},
     "output_type": "execute_result"
    }
   ],
   "source": [
    "datatest.shape"
   ]
  },
  {
   "cell_type": "code",
   "execution_count": 11,
   "metadata": {},
   "outputs": [
    {
     "name": "stdout",
     "output_type": "stream",
     "text": [
      "0\n",
      "0\n"
     ]
    }
   ],
   "source": [
    "print(datatrain.isnull().any().sum())\n",
    "print(datatest.isnull().any().sum())"
   ]
  },
  {
   "cell_type": "markdown",
   "metadata": {},
   "source": [
    "So there are no null or empty values in dataset(both training and testing)"
   ]
  },
  {
   "cell_type": "code",
   "execution_count": 12,
   "metadata": {},
   "outputs": [
    {
     "name": "stdout",
     "output_type": "stream",
     "text": [
      "(42000, 784) (42000, 1)\n",
      "(28000, 784)\n"
     ]
    }
   ],
   "source": [
    "xtrain=np.array(datatrain.iloc[:,1:])\n",
    "ytrain=np.array(datatrain.iloc[:,0]).reshape(-1,1)\n",
    "xtest=np.array(datatest)\n",
    "print(xtrain.shape,ytrain.shape)\n",
    "print(xtest.shape)"
   ]
  },
  {
   "cell_type": "code",
   "execution_count": 13,
   "metadata": {},
   "outputs": [
    {
     "name": "stdout",
     "output_type": "stream",
     "text": [
      "(42000, 10)\n",
      "[[0. 1. 0. 0. 0. 0. 0. 0. 0. 0.]\n",
      " [1. 0. 0. 0. 0. 0. 0. 0. 0. 0.]\n",
      " [0. 1. 0. 0. 0. 0. 0. 0. 0. 0.]\n",
      " [0. 0. 0. 0. 1. 0. 0. 0. 0. 0.]\n",
      " [1. 0. 0. 0. 0. 0. 0. 0. 0. 0.]]\n"
     ]
    }
   ],
   "source": [
    "ytrain=modify(ytrain)\n",
    "print(ytrain.shape)\n",
    "print(ytrain[0:5,:])"
   ]
  },
  {
   "cell_type": "markdown",
   "metadata": {},
   "source": [
    "Divide xtrain and xtest by 255 so to bring all array element vlaues between 0 and 1"
   ]
  },
  {
   "cell_type": "code",
   "execution_count": 14,
   "metadata": {},
   "outputs": [],
   "source": [
    "xtrain=xtrain/255\n",
    "xtest=xtest/255"
   ]
  },
  {
   "cell_type": "code",
   "execution_count": 15,
   "metadata": {},
   "outputs": [
    {
     "name": "stdout",
     "output_type": "stream",
     "text": [
      "(42000, 28, 28, 1)\n",
      "(28000, 28, 28, 1)\n"
     ]
    }
   ],
   "source": [
    "xtrain=xtrain.reshape(xtrain.shape[0],28,28,1)\n",
    "xtest=xtest.reshape(xtest.shape[0],28,28,1)\n",
    "print(xtrain.shape)\n",
    "print(xtest.shape)"
   ]
  },
  {
   "cell_type": "markdown",
   "metadata": {},
   "source": [
    "Now we will use Keras for building model"
   ]
  },
  {
   "cell_type": "code",
   "execution_count": null,
   "metadata": {},
   "outputs": [],
   "source": [
    "model = Sequential()\n",
    " \n",
    "model.add(Conv2D(32, (3, 3), activation='relu', input_shape=(28,28,1)))\n",
    "model.add(Conv2D(32, (3, 3), activation='relu'))\n",
    "model.add(MaxPooling2D(pool_size=(2,2)))\n",
    "model.add(Dropout(0.6))\n",
    " \n",
    "model.add(Flatten())\n",
    "model.add(Dense(128, activation='relu'))\n",
    "model.add(Dense(10, activation='softmax'))\n",
    "\n",
    "model.compile(loss='binary_crossentropy',\n",
    "              optimizer='adam',\n",
    "              metrics=['accuracy'])"
   ]
  },
  {
   "cell_type": "code",
   "execution_count": null,
   "metadata": {},
   "outputs": [
    {
     "name": "stdout",
     "output_type": "stream",
     "text": [
      "Epoch 1/20\n",
      " - 134s - loss: 0.0558 - acc: 0.9806\n",
      "Epoch 2/20\n",
      " - 322s - loss: 0.0199 - acc: 0.9932\n",
      "Epoch 3/20\n",
      " - 328s - loss: 0.0138 - acc: 0.9953\n",
      "Epoch 4/20\n",
      " - 287s - loss: 0.0112 - acc: 0.9961\n",
      "Epoch 5/20\n",
      " - 302s - loss: 0.0093 - acc: 0.9968\n",
      "Epoch 6/20\n",
      " - 256s - loss: 0.0083 - acc: 0.9971\n",
      "Epoch 7/20\n",
      " - 296s - loss: 0.0071 - acc: 0.9976\n",
      "Epoch 8/20\n",
      " - 307s - loss: 0.0063 - acc: 0.9978\n",
      "Epoch 9/20\n",
      " - 248s - loss: 0.0060 - acc: 0.9979\n",
      "Epoch 10/20\n",
      " - 255s - loss: 0.0051 - acc: 0.9982\n",
      "Epoch 11/20\n",
      " - 307s - loss: 0.0046 - acc: 0.9984\n",
      "Epoch 12/20\n",
      " - 364s - loss: 0.0046 - acc: 0.9984\n",
      "Epoch 13/20\n",
      " - 454s - loss: 0.0041 - acc: 0.9986\n",
      "Epoch 14/20\n",
      " - 277s - loss: 0.0040 - acc: 0.9986\n",
      "Epoch 15/20\n",
      " - 303s - loss: 0.0036 - acc: 0.9988\n",
      "Epoch 16/20\n",
      " - 312s - loss: 0.0030 - acc: 0.9989\n",
      "Epoch 17/20\n",
      " - 287s - loss: 0.0033 - acc: 0.9988\n",
      "Epoch 18/20\n",
      " - 313s - loss: 0.0034 - acc: 0.9989\n",
      "Epoch 19/20\n",
      " - 291s - loss: 0.0030 - acc: 0.9989\n",
      "Epoch 20/20\n"
     ]
    }
   ],
   "source": [
    "model.fit(xtrain,ytrain,epochs=20,batch_size=200,verbose=2)"
   ]
  },
  {
   "cell_type": "code",
   "execution_count": null,
   "metadata": {},
   "outputs": [],
   "source": [
    "prediction=model.predict(xtest)\n",
    "prediction.shape"
   ]
  },
  {
   "cell_type": "code",
   "execution_count": null,
   "metadata": {},
   "outputs": [],
   "source": [
    "output_submit(prediction,\"relusigmoid_keras_submission5\")"
   ]
  },
  {
   "cell_type": "code",
   "execution_count": null,
   "metadata": {},
   "outputs": [],
   "source": []
  },
  {
   "cell_type": "code",
   "execution_count": null,
   "metadata": {},
   "outputs": [],
   "source": []
  },
  {
   "cell_type": "code",
   "execution_count": null,
   "metadata": {},
   "outputs": [],
   "source": []
  },
  {
   "cell_type": "code",
   "execution_count": null,
   "metadata": {},
   "outputs": [],
   "source": []
  }
 ],
 "metadata": {
  "kernelspec": {
   "display_name": "Python 3",
   "language": "python",
   "name": "python3"
  },
  "language_info": {
   "codemirror_mode": {
    "name": "ipython",
    "version": 3
   },
   "file_extension": ".py",
   "mimetype": "text/x-python",
   "name": "python",
   "nbconvert_exporter": "python",
   "pygments_lexer": "ipython3",
   "version": "3.6.4"
  }
 },
 "nbformat": 4,
 "nbformat_minor": 2
}
