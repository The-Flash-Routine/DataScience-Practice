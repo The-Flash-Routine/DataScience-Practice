{
 "cells": [
  {
   "cell_type": "code",
   "execution_count": 43,
   "metadata": {},
   "outputs": [],
   "source": [
    "#for pandas \n",
    "import pandas as pd\n",
    "\n",
    "#for numpy\n",
    "import numpy as np\n",
    "\n",
    "#for visualization\n",
    "import matplotlib.pyplot as plt\n",
    "import seaborn as sns\n",
    "\n",
    "#this will help to keep track of iterations of gradient training\n",
    "from IPython.display import clear_output\n",
    "\n",
    "#for loading .mat extension file into program\n",
    "import scipy.io as sci"
   ]
  },
  {
   "cell_type": "code",
   "execution_count": 44,
   "metadata": {},
   "outputs": [],
   "source": [
    "def gz(z):\n",
    "    hey=1/(1+np.exp(-z))\n",
    "    return hey"
   ]
  },
  {
   "cell_type": "code",
   "execution_count": 45,
   "metadata": {},
   "outputs": [],
   "source": [
    "def gz_grad(z):\n",
    "    ven=gz(z)\n",
    "    return (ven*(1-ven))"
   ]
  },
  {
   "cell_type": "code",
   "execution_count": 46,
   "metadata": {},
   "outputs": [],
   "source": [
    "def output_submit(y,filename):\n",
    "    filename=filename+\".csv\"\n",
    "    out=[]\n",
    "    ind=[]\n",
    "    for i in range(0,y.shape[0]):\n",
    "        hey=y[i,:].reshape(-1,1)\n",
    "        out.append(np.argmax(hey))\n",
    "        ind.append(i+1)\n",
    "    hey=np.hstack((np.array(ind).reshape(-1,1),np.array(out).reshape(-1,1)))\n",
    "    np.savetxt(filename,hey,header=\"ImageId,Label\",delimiter=',')"
   ]
  },
  {
   "cell_type": "code",
   "execution_count": 47,
   "metadata": {},
   "outputs": [],
   "source": [
    "def modify(y):\n",
    "    m=y.shape[0]\n",
    "    ynew=np.zeros((m,10))\n",
    "    for i in range(0,m):\n",
    "        ynew[i,y[i]]=1\n",
    "    return ynew"
   ]
  },
  {
   "cell_type": "code",
   "execution_count": 48,
   "metadata": {},
   "outputs": [
    {
     "name": "stdout",
     "output_type": "stream",
     "text": [
      "The history saving thread hit an unexpected error (OperationalError('disk I/O error',)).History will not be written to the database."
     ]
    }
   ],
   "source": [
    "def ini_theta1():\n",
    "    theta=np.random.rand(25,785)\n",
    "    return theta"
   ]
  },
  {
   "cell_type": "code",
   "execution_count": 49,
   "metadata": {},
   "outputs": [
    {
     "name": "stdout",
     "output_type": "stream",
     "text": [
      "\n"
     ]
    }
   ],
   "source": [
    "def ini_theta2():\n",
    "    theta=np.random.rand(10,26)\n",
    "    return theta"
   ]
  },
  {
   "cell_type": "code",
   "execution_count": 50,
   "metadata": {},
   "outputs": [],
   "source": [
    "def forw_prop(x,theta1,theta2,one=False):\n",
    "    z2=x.dot(np.transpose(theta1))\n",
    "    a2=gz(z2)\n",
    "    a2=np.hstack((np.ones(a2.shape[0]).reshape(-1,1),a2))\n",
    "    z3=a2.dot(np.transpose(theta2))\n",
    "    a3=gz(z3)\n",
    "    if one==False:\n",
    "      return a3,z2,a2\n",
    "    else:\n",
    "      return a3"
   ]
  },
  {
   "cell_type": "code",
   "execution_count": 51,
   "metadata": {},
   "outputs": [],
   "source": [
    "def back_prop(x,theta1,theta2,y,lambo=0):\n",
    "    m=x.shape[0]\n",
    "    a3,z2,a2=forw_prop(x,theta1,theta2)\n",
    "    bigdelta1=np.zeros(theta1.shape)\n",
    "    bigdelta2=np.zeros(theta2.shape)\n",
    "    for i in range(0,y.shape[0]):\n",
    "      smalldelta3=a3[i,:]-y[i,:]\n",
    "      smalldelta2=(smalldelta3.dot(theta2[:,1:26]))*gz_grad(z2[i,:])\n",
    "      bigdelta2=bigdelta2+np.outer(smalldelta3,a2[i,:])\n",
    "      bigdelta1=bigdelta1+np.outer(smalldelta2,x[i,:])\n",
    "    theta1_grad=(1/m)*bigdelta1\n",
    "    theta1_grad[:,1:785]=theta1_grad[:,1:785]+(lambo/m)*(theta1[:,1:785])\n",
    "    theta2_grad=(1/m)*bigdelta2\n",
    "    theta2_grad[:,1:26]=theta2_grad[:,1:26]+(lambo/m)*(theta2[:,1:26])\n",
    "    return theta1_grad,theta2_grad"
   ]
  },
  {
   "cell_type": "code",
   "execution_count": 52,
   "metadata": {},
   "outputs": [],
   "source": [
    "def compute_cost(a3,y,lambo=0):\n",
    "    m=a3.shape[0]\n",
    "    hey=(1/m)*np.sum(((-y)*np.log(a3))-((1-y)*np.log(1-a3)))\n",
    "    hey=hey+(lambo/(2*m))*(np.sum(theta1*theta1)+np.sum(theta2*theta2))\n",
    "    return hey"
   ]
  },
  {
   "cell_type": "code",
   "execution_count": 53,
   "metadata": {},
   "outputs": [],
   "source": [
    "dfl=\"C:/Users/Ritik/Desktop/Projects_Flash/Digit Recognizer[MNIST]/train.csv\""
   ]
  },
  {
   "cell_type": "code",
   "execution_count": 54,
   "metadata": {},
   "outputs": [],
   "source": [
    "datatrain=pd.read_csv(dfl,header=0)"
   ]
  },
  {
   "cell_type": "code",
   "execution_count": 55,
   "metadata": {},
   "outputs": [
    {
     "data": {
      "text/plain": [
       "(42000, 785)"
      ]
     },
     "execution_count": 55,
     "metadata": {},
     "output_type": "execute_result"
    }
   ],
   "source": [
    "datatrain.shape"
   ]
  },
  {
   "cell_type": "code",
   "execution_count": 56,
   "metadata": {},
   "outputs": [],
   "source": [
    "dfl=\"C:/Users/Ritik/Desktop/Projects_Flash/Digit Recognizer[MNIST]/test.csv\""
   ]
  },
  {
   "cell_type": "code",
   "execution_count": 57,
   "metadata": {},
   "outputs": [],
   "source": [
    "datatest=pd.read_csv(dfl,header=0)"
   ]
  },
  {
   "cell_type": "code",
   "execution_count": 58,
   "metadata": {},
   "outputs": [
    {
     "data": {
      "text/plain": [
       "(28000, 784)"
      ]
     },
     "execution_count": 58,
     "metadata": {},
     "output_type": "execute_result"
    }
   ],
   "source": [
    "datatest.shape"
   ]
  },
  {
   "cell_type": "code",
   "execution_count": 59,
   "metadata": {},
   "outputs": [
    {
     "name": "stdout",
     "output_type": "stream",
     "text": [
      "0\n",
      "0\n"
     ]
    }
   ],
   "source": [
    "print(datatrain.isnull().any().sum())\n",
    "print(datatest.isnull().any().sum())"
   ]
  },
  {
   "cell_type": "markdown",
   "metadata": {},
   "source": [
    "So there are no null or empty values in dataset(both training and testing)"
   ]
  },
  {
   "cell_type": "code",
   "execution_count": 60,
   "metadata": {},
   "outputs": [
    {
     "name": "stdout",
     "output_type": "stream",
     "text": [
      "(42000, 784) (42000, 1)\n",
      "(28000, 784)\n"
     ]
    }
   ],
   "source": [
    "xtrain=np.array(datatrain.iloc[:,1:])\n",
    "ytrain=np.array(datatrain.iloc[:,0]).reshape(-1,1)\n",
    "xtest=np.array(datatest)\n",
    "print(xtrain.shape,ytrain.shape)\n",
    "print(xtest.shape)"
   ]
  },
  {
   "cell_type": "code",
   "execution_count": 61,
   "metadata": {},
   "outputs": [
    {
     "name": "stdout",
     "output_type": "stream",
     "text": [
      "(42000, 10)\n",
      "[[0. 1. 0. 0. 0. 0. 0. 0. 0. 0.]\n",
      " [1. 0. 0. 0. 0. 0. 0. 0. 0. 0.]\n",
      " [0. 1. 0. 0. 0. 0. 0. 0. 0. 0.]\n",
      " [0. 0. 0. 0. 1. 0. 0. 0. 0. 0.]\n",
      " [1. 0. 0. 0. 0. 0. 0. 0. 0. 0.]]\n"
     ]
    }
   ],
   "source": [
    "ytrain=modify(ytrain)\n",
    "print(ytrain.shape)\n",
    "print(ytrain[0:5,:])"
   ]
  },
  {
   "cell_type": "markdown",
   "metadata": {},
   "source": [
    "Divide xtrain and xtest by 255 so to bring all array element vlaues between 0 and 1\n",
    "Then adding bias column to them"
   ]
  },
  {
   "cell_type": "code",
   "execution_count": 62,
   "metadata": {},
   "outputs": [
    {
     "name": "stdout",
     "output_type": "stream",
     "text": [
      "(42000, 785)\n",
      "(28000, 785)\n"
     ]
    }
   ],
   "source": [
    "xtrain=xtrain/255\n",
    "xtest=xtest/255\n",
    "xtrain=np.hstack((np.ones(xtrain.shape[0]).reshape(-1,1),xtrain))\n",
    "xtest=np.hstack((np.ones(xtest.shape[0]).reshape(-1,1),xtest))\n",
    "print(xtrain.shape)\n",
    "print(xtest.shape)"
   ]
  },
  {
   "cell_type": "code",
   "execution_count": 63,
   "metadata": {},
   "outputs": [
    {
     "name": "stdout",
     "output_type": "stream",
     "text": [
      "(25, 785)\n",
      "(10, 26)\n"
     ]
    }
   ],
   "source": [
    "theta1=ini_theta1()\n",
    "theta2=ini_theta2()\n",
    "print(theta1.shape)\n",
    "print(theta2.shape)"
   ]
  },
  {
   "cell_type": "code",
   "execution_count": 64,
   "metadata": {},
   "outputs": [],
   "source": [
    "iterations=400\n",
    "alpha=0.1\n",
    "J_val=[compute_cost(forw_prop(xtrain,theta1,theta2,True),ytrain)]\n",
    "ite=[i for i in range(0,iterations+1)]"
   ]
  },
  {
   "cell_type": "code",
   "execution_count": 65,
   "metadata": {},
   "outputs": [],
   "source": [
    "for i in range(0,iterations):\n",
    "    print(i)\n",
    "    theta1_grad,theta2_grad=back_prop(xtrain,theta1,theta2,ytrain)\n",
    "    theta1=theta1-(alpha/(xtrain.shape[0]))*theta1_grad\n",
    "    theta2=theta2-(alpha/(xtrain.shape[0]))*theta2_grad\n",
    "    clear_output()\n",
    "    J_val.append(compute_cost(forw_prop(xtrain,theta1,theta2,True),ytrain))"
   ]
  },
  {
   "cell_type": "code",
   "execution_count": 66,
   "metadata": {},
   "outputs": [
    {
     "data": {
      "text/plain": [
       "Text(0,0.5,'Error')"
      ]
     },
     "execution_count": 66,
     "metadata": {},
     "output_type": "execute_result"
    },
    {
     "data": {
      "image/png": "[encoded data removed]",
      "text/plain": [
       "<matplotlib.figure.Figure at 0x2800b00ddd8>"
      ]
     },
     "metadata": {},
     "output_type": "display_data"
    }
   ],
   "source": [
    "plt.plot(ite,J_val)\n",
    "plt.xlabel(\"No. of iterations\")\n",
    "plt.ylabel(\"Error\")"
   ]
  },
  {
   "cell_type": "markdown",
   "metadata": {},
   "source": [
    "Another 400 iterations"
   ]
  },
  {
   "cell_type": "code",
   "execution_count": 69,
   "metadata": {},
   "outputs": [],
   "source": [
    "iterations=400\n",
    "alpha=0.1\n",
    "J_val=[]\n",
    "ite=[i for i in range(401,iterations+401)]\n",
    "\n",
    "for i in range(0,iterations):\n",
    "    print(i+401)\n",
    "    theta1_grad,theta2_grad=back_prop(xtrain,theta1,theta2,ytrain)\n",
    "    theta1=theta1-(alpha/(xtrain.shape[0]))*theta1_grad\n",
    "    theta2=theta2-(alpha/(xtrain.shape[0]))*theta2_grad\n",
    "    clear_output()\n",
    "    J_val.append(compute_cost(forw_prop(xtrain,theta1,theta2,True),ytrain))\n",
    "    \n",
    "    "
   ]
  },
  {
   "cell_type": "code",
   "execution_count": 70,
   "metadata": {},
   "outputs": [
    {
     "data": {
      "text/plain": [
       "Text(0,0.5,'Error')"
      ]
     },
     "execution_count": 70,
     "metadata": {},
     "output_type": "execute_result"
    },
    {
     "data": {
      "image/png": "[encoded data removed]",
      "text/plain": [
       "<matplotlib.figure.Figure at 0x2800b088dd8>"
      ]
     },
     "metadata": {},
     "output_type": "display_data"
    }
   ],
   "source": [
    "plt.plot(ite,J_val)\n",
    "plt.xlabel(\"No. of iterations\")\n",
    "plt.ylabel(\"Error\")"
   ]
  },
  {
   "cell_type": "code",
   "execution_count": 72,
   "metadata": {},
   "outputs": [
    {
     "data": {
      "text/plain": [
       "Text(0,0.5,'Error')"
      ]
     },
     "execution_count": 72,
     "metadata": {},
     "output_type": "execute_result"
    },
    {
     "data": {
      "image/png": "[encoded data removed]",
      "text/plain": [
       "<matplotlib.figure.Figure at 0x28008559048>"
      ]
     },
     "metadata": {},
     "output_type": "display_data"
    }
   ],
   "source": [
    "iterations=400\n",
    "alpha=0.1\n",
    "J_val=[]\n",
    "ite=[i for i in range(801,iterations+801)]\n",
    "\n",
    "for i in range(0,iterations):\n",
    "    print(i+801)\n",
    "    theta1_grad,theta2_grad=back_prop(xtrain,theta1,theta2,ytrain)\n",
    "    theta1=theta1-(alpha/(xtrain.shape[0]))*theta1_grad\n",
    "    theta2=theta2-(alpha/(xtrain.shape[0]))*theta2_grad\n",
    "    clear_output()\n",
    "    J_val.append(compute_cost(forw_prop(xtrain,theta1,theta2,True),ytrain))\n",
    "    \n",
    "plt.plot(ite,J_val)\n",
    "plt.xlabel(\"No. of iterations\")\n",
    "plt.ylabel(\"Error\")"
   ]
  },
  {
   "cell_type": "code",
   "execution_count": 73,
   "metadata": {},
   "outputs": [],
   "source": [
    "a2=gz(xtest.dot(np.transpose(theta1)))\n",
    "a2=np.hstack((np.ones(a2.shape[0]).reshape(-1,1),a2))\n",
    "final=gz(a2.dot(np.transpose(theta2)))"
   ]
  },
  {
   "cell_type": "code",
   "execution_count": 74,
   "metadata": {},
   "outputs": [],
   "source": [
    "output_submit(final,\"Simple\")"
   ]
  },
  {
   "cell_type": "code",
   "execution_count": null,
   "metadata": {},
   "outputs": [],
   "source": []
  },
  {
   "cell_type": "code",
   "execution_count": null,
   "metadata": {},
   "outputs": [],
   "source": []
  },
  {
   "cell_type": "code",
   "execution_count": null,
   "metadata": {},
   "outputs": [],
   "source": []
  }
 ],
 "metadata": {
  "kernelspec": {
   "display_name": "Python 3",
   "language": "python",
   "name": "python3"
  },
  "language_info": {
   "codemirror_mode": {
    "name": "ipython",
    "version": 3
   },
   "file_extension": ".py",
   "mimetype": "text/x-python",
   "name": "python",
   "nbconvert_exporter": "python",
   "pygments_lexer": "ipython3",
   "version": "3.6.4"
  }
 },
 "nbformat": 4,
 "nbformat_minor": 2
}
