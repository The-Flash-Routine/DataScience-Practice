{
 "cells": [
  {
   "cell_type": "code",
   "execution_count": 1,
   "metadata": {},
   "outputs": [
    {
     "name": "stderr",
     "output_type": "stream",
     "text": [
      "C:\\Users\\Ritik\\Anaconda3\\lib\\site-packages\\h5py\\__init__.py:36: FutureWarning: Conversion of the second argument of issubdtype from `float` to `np.floating` is deprecated. In future, it will be treated as `np.float64 == np.dtype(float).type`.\n",
      "  from ._conv import register_converters as _register_converters\n",
      "Using TensorFlow backend.\n"
     ]
    }
   ],
   "source": [
    "#for pandas \n",
    "import pandas as pd\n",
    "\n",
    "#for numpy\n",
    "import numpy as np\n",
    "\n",
    "#importing keras\n",
    "from keras.models import Sequential\n",
    "from keras.layers import Dense"
   ]
  },
  {
   "cell_type": "code",
   "execution_count": 2,
   "metadata": {},
   "outputs": [],
   "source": [
    "def modify(y):\n",
    "    m=y.shape[0]\n",
    "    ynew=np.zeros((m,10))\n",
    "    for i in range(0,m):\n",
    "        ynew[i,y[i]]=1\n",
    "    return ynew"
   ]
  },
  {
   "cell_type": "code",
   "execution_count": 3,
   "metadata": {},
   "outputs": [],
   "source": [
    "def output_submit(y,filename):\n",
    "    filename=filename+\".csv\"\n",
    "    out=[]\n",
    "    ind=[]\n",
    "    for i in range(0,y.shape[0]):\n",
    "        hey=y[i,:].reshape(-1,1)\n",
    "        out.append(np.argmax(hey))\n",
    "        ind.append(i+1)\n",
    "    hey=np.hstack((np.array(ind).reshape(-1,1),np.array(out).reshape(-1,1)))\n",
    "    np.savetxt(filename,hey,header=\"ImageId,Label\",delimiter=',',comments='')"
   ]
  },
  {
   "cell_type": "code",
   "execution_count": 4,
   "metadata": {},
   "outputs": [],
   "source": [
    "dfl=\"C:/Users/Ritik/Desktop/Projects_Flash/Digit Recognizer[MNIST]/train.csv\""
   ]
  },
  {
   "cell_type": "code",
   "execution_count": 5,
   "metadata": {},
   "outputs": [],
   "source": [
    "datatrain=pd.read_csv(dfl,header=0)"
   ]
  },
  {
   "cell_type": "code",
   "execution_count": 6,
   "metadata": {},
   "outputs": [
    {
     "data": {
      "text/plain": [
       "(42000, 785)"
      ]
     },
     "execution_count": 6,
     "metadata": {},
     "output_type": "execute_result"
    }
   ],
   "source": [
    "datatrain.shape"
   ]
  },
  {
   "cell_type": "code",
   "execution_count": 7,
   "metadata": {},
   "outputs": [],
   "source": [
    "dfl=\"C:/Users/Ritik/Desktop/Projects_Flash/Digit Recognizer[MNIST]/test.csv\""
   ]
  },
  {
   "cell_type": "code",
   "execution_count": 8,
   "metadata": {},
   "outputs": [],
   "source": [
    "datatest=pd.read_csv(dfl,header=0)"
   ]
  },
  {
   "cell_type": "code",
   "execution_count": 9,
   "metadata": {},
   "outputs": [
    {
     "data": {
      "text/plain": [
       "(28000, 784)"
      ]
     },
     "execution_count": 9,
     "metadata": {},
     "output_type": "execute_result"
    }
   ],
   "source": [
    "datatest.shape"
   ]
  },
  {
   "cell_type": "code",
   "execution_count": 10,
   "metadata": {},
   "outputs": [
    {
     "name": "stdout",
     "output_type": "stream",
     "text": [
      "0\n",
      "0\n"
     ]
    }
   ],
   "source": [
    "print(datatrain.isnull().any().sum())\n",
    "print(datatest.isnull().any().sum())"
   ]
  },
  {
   "cell_type": "markdown",
   "metadata": {},
   "source": [
    "So there are no null or empty values in dataset(both training and testing)"
   ]
  },
  {
   "cell_type": "code",
   "execution_count": 11,
   "metadata": {},
   "outputs": [
    {
     "name": "stdout",
     "output_type": "stream",
     "text": [
      "(42000, 784) (42000, 1)\n",
      "(28000, 784)\n"
     ]
    }
   ],
   "source": [
    "xtrain=np.array(datatrain.iloc[:,1:])\n",
    "ytrain=np.array(datatrain.iloc[:,0]).reshape(-1,1)\n",
    "xtest=np.array(datatest)\n",
    "print(xtrain.shape,ytrain.shape)\n",
    "print(xtest.shape)"
   ]
  },
  {
   "cell_type": "code",
   "execution_count": 12,
   "metadata": {},
   "outputs": [
    {
     "name": "stdout",
     "output_type": "stream",
     "text": [
      "(42000, 10)\n",
      "[[0. 1. 0. 0. 0. 0. 0. 0. 0. 0.]\n",
      " [1. 0. 0. 0. 0. 0. 0. 0. 0. 0.]\n",
      " [0. 1. 0. 0. 0. 0. 0. 0. 0. 0.]\n",
      " [0. 0. 0. 0. 1. 0. 0. 0. 0. 0.]\n",
      " [1. 0. 0. 0. 0. 0. 0. 0. 0. 0.]]\n"
     ]
    }
   ],
   "source": [
    "ytrain=modify(ytrain)\n",
    "print(ytrain.shape)\n",
    "print(ytrain[0:5,:])"
   ]
  },
  {
   "cell_type": "markdown",
   "metadata": {},
   "source": [
    "Divide xtrain and xtest by 255 so to bring all array element vlaues between 0 and 1\n",
    "Then adding bias column to them"
   ]
  },
  {
   "cell_type": "code",
   "execution_count": 13,
   "metadata": {},
   "outputs": [
    {
     "name": "stdout",
     "output_type": "stream",
     "text": [
      "(42000, 785)\n",
      "(28000, 785)\n"
     ]
    }
   ],
   "source": [
    "xtrain=xtrain/255\n",
    "xtest=xtest/255\n",
    "xtrain=np.hstack((np.ones(xtrain.shape[0]).reshape(-1,1),xtrain))\n",
    "xtest=np.hstack((np.ones(xtest.shape[0]).reshape(-1,1),xtest))\n",
    "print(xtrain.shape)\n",
    "print(xtest.shape)"
   ]
  },
  {
   "cell_type": "markdown",
   "metadata": {},
   "source": [
    "Now we will use Keras for building model"
   ]
  },
  {
   "cell_type": "code",
   "execution_count": 14,
   "metadata": {},
   "outputs": [],
   "source": [
    "model=Sequential()\n",
    "model.add(Dense(25,input_dim=785,kernel_initializer='uniform',activation='relu'))\n",
    "model.add(Dense(10,kernel_initializer='uniform',activation='sigmoid'))\n",
    "model.compile(loss='categorical_crossentropy',optimizer='adam',metrics=['accuracy'])"
   ]
  },
  {
   "cell_type": "code",
   "execution_count": 15,
   "metadata": {},
   "outputs": [
    {
     "name": "stdout",
     "output_type": "stream",
     "text": [
      "Epoch 1/40\n",
      " - 24s - loss: 0.4205 - acc: 0.8803\n",
      "Epoch 2/40\n",
      " - 20s - loss: 0.2578 - acc: 0.9255\n",
      "Epoch 3/40\n",
      " - 21s - loss: 0.2165 - acc: 0.9369\n",
      "Epoch 4/40\n",
      " - 22s - loss: 0.1857 - acc: 0.9446\n",
      "Epoch 5/40\n",
      " - 26s - loss: 0.1640 - acc: 0.9517\n",
      "Epoch 6/40\n",
      " - 37s - loss: 0.1473 - acc: 0.9565\n",
      "Epoch 7/40\n",
      " - 25s - loss: 0.1344 - acc: 0.9603\n",
      "Epoch 8/40\n",
      " - 27s - loss: 0.1242 - acc: 0.9627\n",
      "Epoch 9/40\n",
      " - 25s - loss: 0.1140 - acc: 0.9662\n",
      "Epoch 10/40\n",
      " - 25s - loss: 0.1078 - acc: 0.9678\n",
      "Epoch 11/40\n",
      " - 31s - loss: 0.1003 - acc: 0.9696\n",
      "Epoch 12/40\n",
      " - 31s - loss: 0.0933 - acc: 0.9718\n",
      "Epoch 13/40\n",
      " - 26s - loss: 0.0882 - acc: 0.9725\n",
      "Epoch 14/40\n",
      " - 25s - loss: 0.0821 - acc: 0.9745\n",
      "Epoch 15/40\n",
      " - 26s - loss: 0.0786 - acc: 0.9760\n",
      "Epoch 16/40\n",
      " - 24s - loss: 0.0734 - acc: 0.9774\n",
      "Epoch 17/40\n",
      " - 28s - loss: 0.0703 - acc: 0.9773\n",
      "Epoch 18/40\n",
      " - 30s - loss: 0.0659 - acc: 0.9785\n",
      "Epoch 19/40\n",
      " - 27s - loss: 0.0622 - acc: 0.9799\n",
      "Epoch 20/40\n",
      " - 29s - loss: 0.0597 - acc: 0.9816\n",
      "Epoch 21/40\n",
      " - 28s - loss: 0.0575 - acc: 0.9818\n",
      "Epoch 22/40\n",
      " - 27s - loss: 0.0545 - acc: 0.9821\n",
      "Epoch 23/40\n",
      " - 27s - loss: 0.0524 - acc: 0.9826\n",
      "Epoch 24/40\n",
      " - 24s - loss: 0.0495 - acc: 0.9841\n",
      "Epoch 25/40\n",
      " - 28s - loss: 0.0473 - acc: 0.9835\n",
      "Epoch 26/40\n",
      " - 26s - loss: 0.0462 - acc: 0.9849\n",
      "Epoch 27/40\n",
      " - 28s - loss: 0.0435 - acc: 0.9855\n",
      "Epoch 28/40\n",
      " - 26s - loss: 0.0432 - acc: 0.9859\n",
      "Epoch 29/40\n",
      " - 25s - loss: 0.0394 - acc: 0.9872\n",
      "Epoch 30/40\n",
      " - 25s - loss: 0.0393 - acc: 0.9874\n",
      "Epoch 31/40\n",
      " - 27s - loss: 0.0372 - acc: 0.9878\n",
      "Epoch 32/40\n",
      " - 27s - loss: 0.0356 - acc: 0.9886\n",
      "Epoch 33/40\n",
      " - 31s - loss: 0.0342 - acc: 0.9884\n",
      "Epoch 34/40\n",
      " - 29s - loss: 0.0331 - acc: 0.9887\n",
      "Epoch 35/40\n",
      " - 29s - loss: 0.0320 - acc: 0.9899\n",
      "Epoch 36/40\n",
      " - 27s - loss: 0.0304 - acc: 0.9899\n",
      "Epoch 37/40\n",
      " - 27s - loss: 0.0292 - acc: 0.9901\n",
      "Epoch 38/40\n",
      " - 28s - loss: 0.0284 - acc: 0.9906\n",
      "Epoch 39/40\n",
      " - 30s - loss: 0.0259 - acc: 0.9913\n",
      "Epoch 40/40\n",
      " - 29s - loss: 0.0267 - acc: 0.9910\n"
     ]
    },
    {
     "data": {
      "text/plain": [
       "<keras.callbacks.History at 0x26c3669afd0>"
      ]
     },
     "execution_count": 15,
     "metadata": {},
     "output_type": "execute_result"
    }
   ],
   "source": [
    "model.fit(xtrain,ytrain,epochs=40,batch_size=10,verbose=2)"
   ]
  },
  {
   "cell_type": "code",
   "execution_count": 16,
   "metadata": {},
   "outputs": [
    {
     "data": {
      "text/plain": [
       "(28000, 10)"
      ]
     },
     "execution_count": 16,
     "metadata": {},
     "output_type": "execute_result"
    }
   ],
   "source": [
    "prediction=model.predict(xtest)\n",
    "prediction.shape"
   ]
  },
  {
   "cell_type": "code",
   "execution_count": 18,
   "metadata": {},
   "outputs": [],
   "source": [
    "output_submit(prediction,\"2_layer_relusigmoid_keras_submission2\")"
   ]
  },
  {
   "cell_type": "code",
   "execution_count": null,
   "metadata": {},
   "outputs": [],
   "source": []
  },
  {
   "cell_type": "code",
   "execution_count": null,
   "metadata": {},
   "outputs": [],
   "source": []
  },
  {
   "cell_type": "code",
   "execution_count": null,
   "metadata": {},
   "outputs": [],
   "source": []
  },
  {
   "cell_type": "code",
   "execution_count": null,
   "metadata": {},
   "outputs": [],
   "source": []
  }
 ],
 "metadata": {
  "kernelspec": {
   "display_name": "Python 3",
   "language": "python",
   "name": "python3"
  },
  "language_info": {
   "codemirror_mode": {
    "name": "ipython",
    "version": 3
   },
   "file_extension": ".py",
   "mimetype": "text/x-python",
   "name": "python",
   "nbconvert_exporter": "python",
   "pygments_lexer": "ipython3",
   "version": "3.6.4"
  }
 },
 "nbformat": 4,
 "nbformat_minor": 2
}
