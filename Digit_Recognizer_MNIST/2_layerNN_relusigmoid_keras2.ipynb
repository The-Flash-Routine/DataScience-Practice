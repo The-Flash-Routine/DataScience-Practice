{
 "cells": [
  {
   "cell_type": "code",
   "execution_count": 1,
   "metadata": {},
   "outputs": [
    {
     "name": "stderr",
     "output_type": "stream",
     "text": [
      "C:\\Users\\Ritik\\Anaconda3\\lib\\site-packages\\h5py\\__init__.py:36: FutureWarning: Conversion of the second argument of issubdtype from `float` to `np.floating` is deprecated. In future, it will be treated as `np.float64 == np.dtype(float).type`.\n",
      "  from ._conv import register_converters as _register_converters\n",
      "Using TensorFlow backend.\n"
     ]
    }
   ],
   "source": [
    "#for pandas \n",
    "import pandas as pd\n",
    "\n",
    "#for numpy\n",
    "import numpy as np\n",
    "\n",
    "#importing keras\n",
    "from keras.models import Sequential\n",
    "from keras.layers import Dense"
   ]
  },
  {
   "cell_type": "code",
   "execution_count": 2,
   "metadata": {},
   "outputs": [],
   "source": [
    "def modify(y):\n",
    "    m=y.shape[0]\n",
    "    ynew=np.zeros((m,10))\n",
    "    for i in range(0,m):\n",
    "        ynew[i,y[i]]=1\n",
    "    return ynew"
   ]
  },
  {
   "cell_type": "code",
   "execution_count": 3,
   "metadata": {},
   "outputs": [],
   "source": [
    "def output_submit(y,filename):\n",
    "    filename=filename+\".csv\"\n",
    "    out=[]\n",
    "    ind=[]\n",
    "    for i in range(0,y.shape[0]):\n",
    "        hey=y[i,:].reshape(-1,1)\n",
    "        out.append(np.argmax(hey))\n",
    "        ind.append(i+1)\n",
    "    hey=np.hstack((np.array(ind).reshape(-1,1),np.array(out).reshape(-1,1)))\n",
    "    np.savetxt(filename,hey,header=\"ImageId,Label\",delimiter=',',comments='')"
   ]
  },
  {
   "cell_type": "code",
   "execution_count": 4,
   "metadata": {},
   "outputs": [],
   "source": [
    "dfl=\"C:/Users/Ritik/Desktop/Projects_Flash/Digit Recognizer[MNIST]/train.csv\""
   ]
  },
  {
   "cell_type": "code",
   "execution_count": 5,
   "metadata": {},
   "outputs": [],
   "source": [
    "datatrain=pd.read_csv(dfl,header=0)"
   ]
  },
  {
   "cell_type": "code",
   "execution_count": 6,
   "metadata": {},
   "outputs": [
    {
     "data": {
      "text/plain": [
       "(42000, 785)"
      ]
     },
     "execution_count": 6,
     "metadata": {},
     "output_type": "execute_result"
    }
   ],
   "source": [
    "datatrain.shape"
   ]
  },
  {
   "cell_type": "code",
   "execution_count": 7,
   "metadata": {},
   "outputs": [],
   "source": [
    "dfl=\"C:/Users/Ritik/Desktop/Projects_Flash/Digit Recognizer[MNIST]/test.csv\""
   ]
  },
  {
   "cell_type": "code",
   "execution_count": 8,
   "metadata": {},
   "outputs": [],
   "source": [
    "datatest=pd.read_csv(dfl,header=0)"
   ]
  },
  {
   "cell_type": "code",
   "execution_count": 9,
   "metadata": {},
   "outputs": [
    {
     "data": {
      "text/plain": [
       "(28000, 784)"
      ]
     },
     "execution_count": 9,
     "metadata": {},
     "output_type": "execute_result"
    }
   ],
   "source": [
    "datatest.shape"
   ]
  },
  {
   "cell_type": "code",
   "execution_count": 10,
   "metadata": {},
   "outputs": [
    {
     "name": "stdout",
     "output_type": "stream",
     "text": [
      "0\n",
      "0\n"
     ]
    }
   ],
   "source": [
    "print(datatrain.isnull().any().sum())\n",
    "print(datatest.isnull().any().sum())"
   ]
  },
  {
   "cell_type": "markdown",
   "metadata": {},
   "source": [
    "So there are no null or empty values in dataset(both training and testing)"
   ]
  },
  {
   "cell_type": "code",
   "execution_count": 11,
   "metadata": {},
   "outputs": [
    {
     "name": "stdout",
     "output_type": "stream",
     "text": [
      "(42000, 784) (42000, 1)\n",
      "(28000, 784)\n"
     ]
    }
   ],
   "source": [
    "xtrain=np.array(datatrain.iloc[:,1:])\n",
    "ytrain=np.array(datatrain.iloc[:,0]).reshape(-1,1)\n",
    "xtest=np.array(datatest)\n",
    "print(xtrain.shape,ytrain.shape)\n",
    "print(xtest.shape)"
   ]
  },
  {
   "cell_type": "code",
   "execution_count": 12,
   "metadata": {},
   "outputs": [
    {
     "name": "stdout",
     "output_type": "stream",
     "text": [
      "(42000, 10)\n",
      "[[0. 1. 0. 0. 0. 0. 0. 0. 0. 0.]\n",
      " [1. 0. 0. 0. 0. 0. 0. 0. 0. 0.]\n",
      " [0. 1. 0. 0. 0. 0. 0. 0. 0. 0.]\n",
      " [0. 0. 0. 0. 1. 0. 0. 0. 0. 0.]\n",
      " [1. 0. 0. 0. 0. 0. 0. 0. 0. 0.]]\n"
     ]
    }
   ],
   "source": [
    "ytrain=modify(ytrain)\n",
    "print(ytrain.shape)\n",
    "print(ytrain[0:5,:])"
   ]
  },
  {
   "cell_type": "markdown",
   "metadata": {},
   "source": [
    "Divide xtrain and xtest by 255 so to bring all array element vlaues between 0 and 1\n",
    "Then adding bias column to them"
   ]
  },
  {
   "cell_type": "code",
   "execution_count": 13,
   "metadata": {},
   "outputs": [
    {
     "name": "stdout",
     "output_type": "stream",
     "text": [
      "(42000, 785)\n",
      "(28000, 785)\n"
     ]
    }
   ],
   "source": [
    "xtrain=xtrain/255\n",
    "xtest=xtest/255\n",
    "xtrain=np.hstack((np.ones(xtrain.shape[0]).reshape(-1,1),xtrain))\n",
    "xtest=np.hstack((np.ones(xtest.shape[0]).reshape(-1,1),xtest))\n",
    "print(xtrain.shape)\n",
    "print(xtest.shape)"
   ]
  },
  {
   "cell_type": "markdown",
   "metadata": {},
   "source": [
    "Now we will use Keras for building model"
   ]
  },
  {
   "cell_type": "code",
   "execution_count": 14,
   "metadata": {},
   "outputs": [],
   "source": [
    "model=Sequential()\n",
    "model.add(Dense(30,input_dim=785,kernel_initializer='uniform',activation='relu'))\n",
    "model.add(Dense(10,kernel_initializer='uniform',activation='sigmoid'))\n",
    "model.compile(loss='binary_crossentropy',optimizer='adam',metrics=['accuracy'])"
   ]
  },
  {
   "cell_type": "code",
   "execution_count": 15,
   "metadata": {},
   "outputs": [
    {
     "name": "stdout",
     "output_type": "stream",
     "text": [
      "Epoch 1/40\n",
      " - 29s - loss: 0.0879 - acc: 0.9713\n",
      "Epoch 2/40\n",
      " - 23s - loss: 0.0434 - acc: 0.9858\n",
      "Epoch 3/40\n",
      " - 24s - loss: 0.0348 - acc: 0.9889\n",
      "Epoch 4/40\n",
      " - 22s - loss: 0.0299 - acc: 0.9905\n",
      "Epoch 5/40\n",
      " - 23s - loss: 0.0268 - acc: 0.9913\n",
      "Epoch 6/40\n",
      " - 21s - loss: 0.0246 - acc: 0.9920\n",
      "Epoch 7/40\n",
      " - 24s - loss: 0.0229 - acc: 0.9926\n",
      "Epoch 8/40\n",
      " - 21s - loss: 0.0215 - acc: 0.9931\n",
      "Epoch 9/40\n",
      " - 23s - loss: 0.0204 - acc: 0.9934\n",
      "Epoch 10/40\n",
      " - 23s - loss: 0.0193 - acc: 0.9937\n",
      "Epoch 11/40\n",
      " - 21s - loss: 0.0186 - acc: 0.9939\n",
      "Epoch 12/40\n",
      " - 22s - loss: 0.0179 - acc: 0.9941\n",
      "Epoch 13/40\n",
      " - 22s - loss: 0.0171 - acc: 0.9944\n",
      "Epoch 14/40\n",
      " - 23s - loss: 0.0166 - acc: 0.9945\n",
      "Epoch 15/40\n",
      " - 22s - loss: 0.0160 - acc: 0.9947\n",
      "Epoch 16/40\n",
      " - 23s - loss: 0.0155 - acc: 0.9948\n",
      "Epoch 17/40\n",
      " - 24s - loss: 0.0150 - acc: 0.9950\n",
      "Epoch 18/40\n",
      " - 26s - loss: 0.0145 - acc: 0.9950\n",
      "Epoch 19/40\n",
      " - 30s - loss: 0.0141 - acc: 0.9953\n",
      "Epoch 20/40\n",
      " - 30s - loss: 0.0137 - acc: 0.9954\n",
      "Epoch 21/40\n",
      " - 20s - loss: 0.0133 - acc: 0.9955\n",
      "Epoch 22/40\n",
      " - 26s - loss: 0.0130 - acc: 0.9957\n",
      "Epoch 23/40\n",
      " - 22s - loss: 0.0126 - acc: 0.9957\n",
      "Epoch 24/40\n",
      " - 22s - loss: 0.0123 - acc: 0.9959\n",
      "Epoch 25/40\n",
      " - 22s - loss: 0.0120 - acc: 0.9960\n",
      "Epoch 26/40\n",
      " - 21s - loss: 0.0118 - acc: 0.9960\n",
      "Epoch 27/40\n",
      " - 21s - loss: 0.0113 - acc: 0.9962\n",
      "Epoch 28/40\n",
      " - 22s - loss: 0.0113 - acc: 0.9962\n",
      "Epoch 29/40\n",
      " - 22s - loss: 0.0110 - acc: 0.9964\n",
      "Epoch 30/40\n",
      " - 22s - loss: 0.0106 - acc: 0.9964\n",
      "Epoch 31/40\n",
      " - 23s - loss: 0.0104 - acc: 0.9964\n",
      "Epoch 32/40\n",
      " - 23s - loss: 0.0102 - acc: 0.9966\n",
      "Epoch 33/40\n",
      " - 22s - loss: 0.0099 - acc: 0.9967\n",
      "Epoch 34/40\n",
      " - 21s - loss: 0.0097 - acc: 0.9967\n",
      "Epoch 35/40\n",
      " - 21s - loss: 0.0097 - acc: 0.9968\n",
      "Epoch 36/40\n",
      " - 21s - loss: 0.0092 - acc: 0.9969\n",
      "Epoch 37/40\n",
      " - 21s - loss: 0.0092 - acc: 0.9969\n",
      "Epoch 38/40\n",
      " - 21s - loss: 0.0089 - acc: 0.9969\n",
      "Epoch 39/40\n",
      " - 22s - loss: 0.0087 - acc: 0.9970\n",
      "Epoch 40/40\n",
      " - 22s - loss: 0.0087 - acc: 0.9971\n"
     ]
    },
    {
     "data": {
      "text/plain": [
       "<keras.callbacks.History at 0x1a804ce9d68>"
      ]
     },
     "execution_count": 15,
     "metadata": {},
     "output_type": "execute_result"
    }
   ],
   "source": [
    "model.fit(xtrain,ytrain,epochs=40,batch_size=10,verbose=2)"
   ]
  },
  {
   "cell_type": "code",
   "execution_count": 16,
   "metadata": {},
   "outputs": [
    {
     "data": {
      "text/plain": [
       "(28000, 10)"
      ]
     },
     "execution_count": 16,
     "metadata": {},
     "output_type": "execute_result"
    }
   ],
   "source": [
    "prediction=model.predict(xtest)\n",
    "prediction.shape"
   ]
  },
  {
   "cell_type": "code",
   "execution_count": 17,
   "metadata": {},
   "outputs": [],
   "source": [
    "output_submit(prediction,\"2_layer_relusigmoid_keras_submission3\")"
   ]
  },
  {
   "cell_type": "code",
   "execution_count": null,
   "metadata": {},
   "outputs": [],
   "source": []
  },
  {
   "cell_type": "code",
   "execution_count": null,
   "metadata": {},
   "outputs": [],
   "source": []
  },
  {
   "cell_type": "code",
   "execution_count": null,
   "metadata": {},
   "outputs": [],
   "source": []
  }
 ],
 "metadata": {
  "kernelspec": {
   "display_name": "Python 3",
   "language": "python",
   "name": "python3"
  },
  "language_info": {
   "codemirror_mode": {
    "name": "ipython",
    "version": 3
   },
   "file_extension": ".py",
   "mimetype": "text/x-python",
   "name": "python",
   "nbconvert_exporter": "python",
   "pygments_lexer": "ipython3",
   "version": "3.6.4"
  }
 },
 "nbformat": 4,
 "nbformat_minor": 2
}
